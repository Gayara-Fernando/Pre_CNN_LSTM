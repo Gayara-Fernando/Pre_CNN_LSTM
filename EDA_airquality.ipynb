{
 "cells": [
  {
   "cell_type": "code",
   "execution_count": 15,
   "id": "784abdf9-6d4b-4394-8a7b-1af272289995",
   "metadata": {},
   "outputs": [],
   "source": [
    "import pandas as pd\n",
    "import numpy as np\n",
    "import os"
   ]
  },
  {
   "cell_type": "code",
   "execution_count": 8,
   "id": "41a71b29-13f3-4168-b4b1-40ba9c818c0c",
   "metadata": {},
   "outputs": [],
   "source": [
    "# what are the data and the test csv files?\n",
    "\n",
    "data_file = pd.read_csv('beijing_data/data.csv')\n",
    "test_file = pd.read_csv('beijing_data/test.csv')"
   ]
  },
  {
   "cell_type": "code",
   "execution_count": 5,
   "id": "09ee811e-f25b-40c9-bab5-1c6098bc027f",
   "metadata": {},
   "outputs": [
    {
     "data": {
      "text/html": [
       "<div>\n",
       "<style scoped>\n",
       "    .dataframe tbody tr th:only-of-type {\n",
       "        vertical-align: middle;\n",
       "    }\n",
       "\n",
       "    .dataframe tbody tr th {\n",
       "        vertical-align: top;\n",
       "    }\n",
       "\n",
       "    .dataframe thead th {\n",
       "        text-align: right;\n",
       "    }\n",
       "</style>\n",
       "<table border=\"1\" class=\"dataframe\">\n",
       "  <thead>\n",
       "    <tr style=\"text-align: right;\">\n",
       "      <th></th>\n",
       "      <th>Date</th>\n",
       "      <th>Open</th>\n",
       "      <th>High</th>\n",
       "      <th>Low</th>\n",
       "      <th>Close</th>\n",
       "      <th>Adj Close</th>\n",
       "      <th>Volume</th>\n",
       "    </tr>\n",
       "  </thead>\n",
       "  <tbody>\n",
       "    <tr>\n",
       "      <th>0</th>\n",
       "      <td>2018-07-02</td>\n",
       "      <td>183.820007</td>\n",
       "      <td>187.300003</td>\n",
       "      <td>183.419998</td>\n",
       "      <td>187.179993</td>\n",
       "      <td>182.199005</td>\n",
       "      <td>17731300</td>\n",
       "    </tr>\n",
       "    <tr>\n",
       "      <th>1</th>\n",
       "      <td>2018-07-03</td>\n",
       "      <td>187.789993</td>\n",
       "      <td>187.949997</td>\n",
       "      <td>183.539993</td>\n",
       "      <td>183.919998</td>\n",
       "      <td>179.025772</td>\n",
       "      <td>13954800</td>\n",
       "    </tr>\n",
       "    <tr>\n",
       "      <th>2</th>\n",
       "      <td>2018-07-05</td>\n",
       "      <td>185.259995</td>\n",
       "      <td>186.410004</td>\n",
       "      <td>184.279999</td>\n",
       "      <td>185.399994</td>\n",
       "      <td>180.466370</td>\n",
       "      <td>16604200</td>\n",
       "    </tr>\n",
       "    <tr>\n",
       "      <th>3</th>\n",
       "      <td>2018-07-06</td>\n",
       "      <td>185.419998</td>\n",
       "      <td>188.429993</td>\n",
       "      <td>185.199997</td>\n",
       "      <td>187.970001</td>\n",
       "      <td>182.967972</td>\n",
       "      <td>17485200</td>\n",
       "    </tr>\n",
       "    <tr>\n",
       "      <th>4</th>\n",
       "      <td>2018-07-09</td>\n",
       "      <td>189.500000</td>\n",
       "      <td>190.679993</td>\n",
       "      <td>189.300003</td>\n",
       "      <td>190.580002</td>\n",
       "      <td>185.508545</td>\n",
       "      <td>19756600</td>\n",
       "    </tr>\n",
       "  </tbody>\n",
       "</table>\n",
       "</div>"
      ],
      "text/plain": [
       "         Date        Open        High         Low       Close   Adj Close  \\\n",
       "0  2018-07-02  183.820007  187.300003  183.419998  187.179993  182.199005   \n",
       "1  2018-07-03  187.789993  187.949997  183.539993  183.919998  179.025772   \n",
       "2  2018-07-05  185.259995  186.410004  184.279999  185.399994  180.466370   \n",
       "3  2018-07-06  185.419998  188.429993  185.199997  187.970001  182.967972   \n",
       "4  2018-07-09  189.500000  190.679993  189.300003  190.580002  185.508545   \n",
       "\n",
       "     Volume  \n",
       "0  17731300  \n",
       "1  13954800  \n",
       "2  16604200  \n",
       "3  17485200  \n",
       "4  19756600  "
      ]
     },
     "execution_count": 5,
     "metadata": {},
     "output_type": "execute_result"
    }
   ],
   "source": [
    "data_file.head()"
   ]
  },
  {
   "cell_type": "code",
   "execution_count": 10,
   "id": "df4f6e8d-33c0-4e48-9a63-7b8e89d5a2a8",
   "metadata": {},
   "outputs": [
    {
     "data": {
      "text/html": [
       "<div>\n",
       "<style scoped>\n",
       "    .dataframe tbody tr th:only-of-type {\n",
       "        vertical-align: middle;\n",
       "    }\n",
       "\n",
       "    .dataframe tbody tr th {\n",
       "        vertical-align: top;\n",
       "    }\n",
       "\n",
       "    .dataframe thead th {\n",
       "        text-align: right;\n",
       "    }\n",
       "</style>\n",
       "<table border=\"1\" class=\"dataframe\">\n",
       "  <thead>\n",
       "    <tr style=\"text-align: right;\">\n",
       "      <th></th>\n",
       "      <th>Date</th>\n",
       "      <th>Open</th>\n",
       "      <th>High</th>\n",
       "      <th>Low</th>\n",
       "      <th>Close</th>\n",
       "      <th>Adj Close</th>\n",
       "      <th>Volume</th>\n",
       "    </tr>\n",
       "  </thead>\n",
       "  <tbody>\n",
       "    <tr>\n",
       "      <th>0</th>\n",
       "      <td>2018-07-02</td>\n",
       "      <td>43.060001</td>\n",
       "      <td>45.000000</td>\n",
       "      <td>42.750000</td>\n",
       "      <td>44.980000</td>\n",
       "      <td>44.980000</td>\n",
       "      <td>16703600</td>\n",
       "    </tr>\n",
       "    <tr>\n",
       "      <th>1</th>\n",
       "      <td>2018-07-03</td>\n",
       "      <td>45.360001</td>\n",
       "      <td>45.480000</td>\n",
       "      <td>43.799999</td>\n",
       "      <td>43.889999</td>\n",
       "      <td>43.889999</td>\n",
       "      <td>14237500</td>\n",
       "    </tr>\n",
       "    <tr>\n",
       "      <th>2</th>\n",
       "      <td>2018-07-05</td>\n",
       "      <td>44.070000</td>\n",
       "      <td>45.110001</td>\n",
       "      <td>43.549999</td>\n",
       "      <td>45.060001</td>\n",
       "      <td>45.060001</td>\n",
       "      <td>16172000</td>\n",
       "    </tr>\n",
       "    <tr>\n",
       "      <th>3</th>\n",
       "      <td>2018-07-06</td>\n",
       "      <td>44.910000</td>\n",
       "      <td>46.750000</td>\n",
       "      <td>44.610001</td>\n",
       "      <td>46.650002</td>\n",
       "      <td>46.650002</td>\n",
       "      <td>23740700</td>\n",
       "    </tr>\n",
       "    <tr>\n",
       "      <th>4</th>\n",
       "      <td>2018-07-09</td>\n",
       "      <td>46.740002</td>\n",
       "      <td>46.900002</td>\n",
       "      <td>42.080002</td>\n",
       "      <td>44.139999</td>\n",
       "      <td>44.139999</td>\n",
       "      <td>107582400</td>\n",
       "    </tr>\n",
       "  </tbody>\n",
       "</table>\n",
       "</div>"
      ],
      "text/plain": [
       "         Date       Open       High        Low      Close  Adj Close  \\\n",
       "0  2018-07-02  43.060001  45.000000  42.750000  44.980000  44.980000   \n",
       "1  2018-07-03  45.360001  45.480000  43.799999  43.889999  43.889999   \n",
       "2  2018-07-05  44.070000  45.110001  43.549999  45.060001  45.060001   \n",
       "3  2018-07-06  44.910000  46.750000  44.610001  46.650002  46.650002   \n",
       "4  2018-07-09  46.740002  46.900002  42.080002  44.139999  44.139999   \n",
       "\n",
       "      Volume  \n",
       "0   16703600  \n",
       "1   14237500  \n",
       "2   16172000  \n",
       "3   23740700  \n",
       "4  107582400  "
      ]
     },
     "execution_count": 10,
     "metadata": {},
     "output_type": "execute_result"
    }
   ],
   "source": [
    "test_file.head()"
   ]
  },
  {
   "cell_type": "code",
   "execution_count": 9,
   "id": "ff8e513a-1689-422c-be64-8c8092bf239d",
   "metadata": {},
   "outputs": [
    {
     "data": {
      "text/plain": [
       "((503, 7), (503, 7))"
      ]
     },
     "execution_count": 9,
     "metadata": {},
     "output_type": "execute_result"
    }
   ],
   "source": [
    "data_file.shape, test_file.shape"
   ]
  },
  {
   "cell_type": "code",
   "execution_count": 13,
   "id": "7c737bbd-0513-4e09-a708-1bf3ae27307d",
   "metadata": {},
   "outputs": [
    {
     "data": {
      "text/plain": [
       "(Index(['Date', 'Open', 'High', 'Low', 'Close', 'Adj Close', 'Volume'], dtype='object'),\n",
       " Index(['Date', 'Open', 'High', 'Low', 'Close', 'Adj Close', 'Volume'], dtype='object'))"
      ]
     },
     "execution_count": 13,
     "metadata": {},
     "output_type": "execute_result"
    }
   ],
   "source": [
    "test_file.columns, data_file.columns"
   ]
  },
  {
   "cell_type": "code",
   "execution_count": 14,
   "id": "ba4a5a0f-c0a5-445f-81f3-c71a0a0158af",
   "metadata": {},
   "outputs": [],
   "source": [
    "# Take a look at the proper data files, not sure what exactly these things are"
   ]
  },
  {
   "cell_type": "code",
   "execution_count": 17,
   "id": "3d92c2b8-e625-45e8-bfbf-c6e4840ad53e",
   "metadata": {},
   "outputs": [
    {
     "data": {
      "text/plain": [
       "['PRSA_Data_Dingling_20130301-20170228.csv',\n",
       " 'PRSA_Data_Aotizhongxin_20130301-20170228.csv',\n",
       " 'PRSA_Data_Wanliu_20130301-20170228.csv',\n",
       " 'PRSA_Data_Changping_20130301-20170228.csv',\n",
       " 'PRSA_Data_Guanyuan_20130301-20170228.csv',\n",
       " 'PRSA_Data_Huairou_20130301-20170228.csv',\n",
       " 'PRSA_Data_Tiantan_20130301-20170228.csv',\n",
       " 'PRSA_Data_Wanshouxigong_20130301-20170228.csv',\n",
       " 'PRSA_Data_Shunyi_20130301-20170228.csv',\n",
       " 'PRSA_Data_Dongsi_20130301-20170228.csv',\n",
       " 'PRSA_Data_Nongzhanguan_20130301-20170228.csv',\n",
       " 'PRSA_Data_Gucheng_20130301-20170228.csv']"
      ]
     },
     "execution_count": 17,
     "metadata": {},
     "output_type": "execute_result"
    }
   ],
   "source": [
    "all_data_files = os.listdir('beijing_data/PRSA_Data_20130301-20170228')\n",
    "all_data_files"
   ]
  },
  {
   "cell_type": "code",
   "execution_count": 19,
   "id": "c1f259cb-5e94-4e6a-b645-18fdfc0614e6",
   "metadata": {},
   "outputs": [],
   "source": [
    "Dingling_data = pd.read_csv('beijing_data/PRSA_Data_20130301-20170228/PRSA_Data_Dingling_20130301-20170228.csv')"
   ]
  },
  {
   "cell_type": "code",
   "execution_count": 21,
   "id": "987c3c16-82fe-4d61-acba-3695f836bb25",
   "metadata": {},
   "outputs": [
    {
     "data": {
      "text/html": [
       "<div>\n",
       "<style scoped>\n",
       "    .dataframe tbody tr th:only-of-type {\n",
       "        vertical-align: middle;\n",
       "    }\n",
       "\n",
       "    .dataframe tbody tr th {\n",
       "        vertical-align: top;\n",
       "    }\n",
       "\n",
       "    .dataframe thead th {\n",
       "        text-align: right;\n",
       "    }\n",
       "</style>\n",
       "<table border=\"1\" class=\"dataframe\">\n",
       "  <thead>\n",
       "    <tr style=\"text-align: right;\">\n",
       "      <th></th>\n",
       "      <th>No</th>\n",
       "      <th>year</th>\n",
       "      <th>month</th>\n",
       "      <th>day</th>\n",
       "      <th>hour</th>\n",
       "      <th>PM2.5</th>\n",
       "      <th>PM10</th>\n",
       "      <th>SO2</th>\n",
       "      <th>NO2</th>\n",
       "      <th>CO</th>\n",
       "      <th>O3</th>\n",
       "      <th>TEMP</th>\n",
       "      <th>PRES</th>\n",
       "      <th>DEWP</th>\n",
       "      <th>RAIN</th>\n",
       "      <th>wd</th>\n",
       "      <th>WSPM</th>\n",
       "      <th>station</th>\n",
       "    </tr>\n",
       "  </thead>\n",
       "  <tbody>\n",
       "    <tr>\n",
       "      <th>0</th>\n",
       "      <td>1</td>\n",
       "      <td>2013</td>\n",
       "      <td>3</td>\n",
       "      <td>1</td>\n",
       "      <td>0</td>\n",
       "      <td>4.0</td>\n",
       "      <td>4.0</td>\n",
       "      <td>3.0</td>\n",
       "      <td>NaN</td>\n",
       "      <td>200.0</td>\n",
       "      <td>82.0</td>\n",
       "      <td>-2.3</td>\n",
       "      <td>1020.8</td>\n",
       "      <td>-19.7</td>\n",
       "      <td>0.0</td>\n",
       "      <td>E</td>\n",
       "      <td>0.5</td>\n",
       "      <td>Dingling</td>\n",
       "    </tr>\n",
       "    <tr>\n",
       "      <th>1</th>\n",
       "      <td>2</td>\n",
       "      <td>2013</td>\n",
       "      <td>3</td>\n",
       "      <td>1</td>\n",
       "      <td>1</td>\n",
       "      <td>7.0</td>\n",
       "      <td>7.0</td>\n",
       "      <td>3.0</td>\n",
       "      <td>NaN</td>\n",
       "      <td>200.0</td>\n",
       "      <td>80.0</td>\n",
       "      <td>-2.5</td>\n",
       "      <td>1021.3</td>\n",
       "      <td>-19.0</td>\n",
       "      <td>0.0</td>\n",
       "      <td>ENE</td>\n",
       "      <td>0.7</td>\n",
       "      <td>Dingling</td>\n",
       "    </tr>\n",
       "    <tr>\n",
       "      <th>2</th>\n",
       "      <td>3</td>\n",
       "      <td>2013</td>\n",
       "      <td>3</td>\n",
       "      <td>1</td>\n",
       "      <td>2</td>\n",
       "      <td>5.0</td>\n",
       "      <td>5.0</td>\n",
       "      <td>3.0</td>\n",
       "      <td>2.0</td>\n",
       "      <td>200.0</td>\n",
       "      <td>79.0</td>\n",
       "      <td>-3.0</td>\n",
       "      <td>1021.3</td>\n",
       "      <td>-19.9</td>\n",
       "      <td>0.0</td>\n",
       "      <td>ENE</td>\n",
       "      <td>0.2</td>\n",
       "      <td>Dingling</td>\n",
       "    </tr>\n",
       "    <tr>\n",
       "      <th>3</th>\n",
       "      <td>4</td>\n",
       "      <td>2013</td>\n",
       "      <td>3</td>\n",
       "      <td>1</td>\n",
       "      <td>3</td>\n",
       "      <td>6.0</td>\n",
       "      <td>6.0</td>\n",
       "      <td>3.0</td>\n",
       "      <td>NaN</td>\n",
       "      <td>200.0</td>\n",
       "      <td>79.0</td>\n",
       "      <td>-3.6</td>\n",
       "      <td>1021.8</td>\n",
       "      <td>-19.1</td>\n",
       "      <td>0.0</td>\n",
       "      <td>NNE</td>\n",
       "      <td>1.0</td>\n",
       "      <td>Dingling</td>\n",
       "    </tr>\n",
       "    <tr>\n",
       "      <th>4</th>\n",
       "      <td>5</td>\n",
       "      <td>2013</td>\n",
       "      <td>3</td>\n",
       "      <td>1</td>\n",
       "      <td>4</td>\n",
       "      <td>5.0</td>\n",
       "      <td>5.0</td>\n",
       "      <td>3.0</td>\n",
       "      <td>NaN</td>\n",
       "      <td>200.0</td>\n",
       "      <td>81.0</td>\n",
       "      <td>-3.5</td>\n",
       "      <td>1022.3</td>\n",
       "      <td>-19.4</td>\n",
       "      <td>0.0</td>\n",
       "      <td>N</td>\n",
       "      <td>2.1</td>\n",
       "      <td>Dingling</td>\n",
       "    </tr>\n",
       "  </tbody>\n",
       "</table>\n",
       "</div>"
      ],
      "text/plain": [
       "   No  year  month  day  hour  PM2.5  PM10  SO2  NO2     CO    O3  TEMP  \\\n",
       "0   1  2013      3    1     0    4.0   4.0  3.0  NaN  200.0  82.0  -2.3   \n",
       "1   2  2013      3    1     1    7.0   7.0  3.0  NaN  200.0  80.0  -2.5   \n",
       "2   3  2013      3    1     2    5.0   5.0  3.0  2.0  200.0  79.0  -3.0   \n",
       "3   4  2013      3    1     3    6.0   6.0  3.0  NaN  200.0  79.0  -3.6   \n",
       "4   5  2013      3    1     4    5.0   5.0  3.0  NaN  200.0  81.0  -3.5   \n",
       "\n",
       "     PRES  DEWP  RAIN   wd  WSPM   station  \n",
       "0  1020.8 -19.7   0.0    E   0.5  Dingling  \n",
       "1  1021.3 -19.0   0.0  ENE   0.7  Dingling  \n",
       "2  1021.3 -19.9   0.0  ENE   0.2  Dingling  \n",
       "3  1021.8 -19.1   0.0  NNE   1.0  Dingling  \n",
       "4  1022.3 -19.4   0.0    N   2.1  Dingling  "
      ]
     },
     "execution_count": 21,
     "metadata": {},
     "output_type": "execute_result"
    }
   ],
   "source": [
    "Dingling_data.head()"
   ]
  },
  {
   "cell_type": "code",
   "execution_count": 20,
   "id": "d11dd658-caf3-431c-ad97-119787ad0558",
   "metadata": {},
   "outputs": [
    {
     "data": {
      "text/plain": [
       "(35064, 18)"
      ]
     },
     "execution_count": 20,
     "metadata": {},
     "output_type": "execute_result"
    }
   ],
   "source": [
    "Dingling_data.shape"
   ]
  },
  {
   "cell_type": "code",
   "execution_count": 22,
   "id": "2ae1459f-c55a-4634-83ed-32825aa92201",
   "metadata": {},
   "outputs": [],
   "source": [
    "# The shape agrees with what's mentioned in the paper"
   ]
  },
  {
   "cell_type": "code",
   "execution_count": null,
   "id": "47fcc8db-33f7-45a7-aa0d-29db325e492d",
   "metadata": {},
   "outputs": [],
   "source": []
  },
  {
   "cell_type": "code",
   "execution_count": null,
   "id": "6031913c-d9f7-4081-b8c1-37b1cf728f49",
   "metadata": {},
   "outputs": [],
   "source": []
  },
  {
   "cell_type": "code",
   "execution_count": null,
   "id": "d81715e6-ea5e-4efe-8772-015b4e80b6d9",
   "metadata": {},
   "outputs": [],
   "source": []
  },
  {
   "cell_type": "code",
   "execution_count": null,
   "id": "c4735bc1-19d1-4344-a1c0-880cddf826c1",
   "metadata": {},
   "outputs": [],
   "source": []
  },
  {
   "cell_type": "code",
   "execution_count": null,
   "id": "0d62923a-0d13-4313-b811-f12f592314b1",
   "metadata": {},
   "outputs": [],
   "source": []
  }
 ],
 "metadata": {
  "kernelspec": {
   "display_name": "Python (tfp_for_TN)",
   "language": "python",
   "name": "tfp_for_tn"
  },
  "language_info": {
   "codemirror_mode": {
    "name": "ipython",
    "version": 3
   },
   "file_extension": ".py",
   "mimetype": "text/x-python",
   "name": "python",
   "nbconvert_exporter": "python",
   "pygments_lexer": "ipython3",
   "version": "3.10.14"
  }
 },
 "nbformat": 4,
 "nbformat_minor": 5
}
